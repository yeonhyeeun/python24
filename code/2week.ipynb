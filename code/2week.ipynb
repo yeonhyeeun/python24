{
 "cells": [
  {
   "cell_type": "code",
   "execution_count": null,
   "metadata": {},
   "outputs": [],
   "source": [
    "a = (input(\"숫자1을 입력하세요: \"))\n",
    "b = (input(\"숫자2를 입력하세요: \"))\n",
    "\n",
    "print(\"숫자1+숫자2: \", a+b)\n",
    "print(\"숫자1-숫자2: \", a-b)\n",
    "print(\"숫자1*숫자2: \", a*b)\n",
    "print(\"숫자1/숫자2: \", a/b)\n",
    "\n"
   ]
  },
  {
   "cell_type": "code",
   "execution_count": 1,
   "metadata": {},
   "outputs": [
    {
     "name": "stdout",
     "output_type": "stream",
     "text": [
      "총액 :  105.0 $\n"
     ]
    }
   ],
   "source": [
    "# 3주차 수업 \n",
    "#해외여행에서 음식비용 계산 \n",
    "\n",
    "#input - 음식비용, 팁비율 \n",
    "#output -지불해야할 금액 \n",
    "food = int(input(\"음식 값: \"))\n",
    "tip = int(input(\"팁 비율(%): \"))\n",
    "total = food + (food*tip*0.01)\n",
    "\n",
    "print(\"총액 : \", total , \"$\" )"
   ]
  },
  {
   "cell_type": "code",
   "execution_count": 2,
   "metadata": {},
   "outputs": [
    {
     "name": "stdout",
     "output_type": "stream",
     "text": [
      "삼각형의 넓이:  25.0\n"
     ]
    }
   ],
   "source": [
    "#밑변과 높이 받아서 삼각형 넓이 구하기 \n",
    "base = int(input(\"밑변 입력: \"))\n",
    "height = int(input(\"높이 입력: \"))\n",
    "\n",
    "area = base * height *1/2\n",
    "\n",
    "print(\"삼각형의 넓이: \", area)"
   ]
  },
  {
   "cell_type": "code",
   "execution_count": 4,
   "metadata": {},
   "outputs": [
    {
     "name": "stdout",
     "output_type": "stream",
     "text": [
      "두 점 사이의 거리는:  141.4213562373095\n"
     ]
    }
   ],
   "source": [
    "#문제) 파이썬을 이용하여 평면 상의 두 점 사이의 거리를 구해 봅시다, \n",
    "\n",
    "poinx1 = int(input(\"한 점의 x1좌표 입력: \"))\n",
    "poiny1 = int(input(\"한 점의 y1좌표 입력: \"))\n",
    "\n",
    "poinx2 = int(input(\"다른 한 점의 x2좌표 입력: \"))\n",
    "poiny2 = int(input(\"다른 한 점의 y2좌표 입력: \"))\n",
    "\n",
    "\n",
    "distance = ((poinx1 - poinx2)**2 + (poiny1 - poiny2)**2)**0.5\n",
    "\n",
    "print(\"두 점 사이의 거리는: \", distance)"
   ]
  },
  {
   "cell_type": "markdown",
   "metadata": {},
   "source": [
    "## 12주차 화요일 "
   ]
  },
  {
   "cell_type": "markdown",
   "metadata": {},
   "source": [
    "5명의 학생 이름을 입력 받은 후, 세과목(kor, eng, math) 점수 (0-100사이 랜덤 값)를 \n",
    "딕셔너리의 리스트에 저장 한 후 출력하는 프로그램을 작성해 봅시다. \n",
    "\n",
    "조건: - dictionary에서 여러 개의 값을 지정하고 활용한다.\n",
    "\n",
    "1)저장할 개수를 입력 받는다\n",
    "\n",
    "2)차례대로 이름을 입력 받는다.\n",
    "\n",
    "3)kor, eng, math 리스트에 0-100사이의 값을 차례대로 저장한다.\n",
    "\n",
    "4)각 이름과 kor, eng, math 리스트에 저장된 점수를 각각 출력"
   ]
  },
  {
   "cell_type": "code",
   "execution_count": null,
   "metadata": {},
   "outputs": [],
   "source": []
  },
  {
   "cell_type": "code",
   "execution_count": 13,
   "metadata": {},
   "outputs": [
    {
     "name": "stdout",
     "output_type": "stream",
     "text": [
      "[5, '사과', 10, '겨울']\n",
      "(5, '사과', 10, '겨울')\n",
      "[50, '사과', 10, '한동']\n",
      "[5, '사과', 10, '이건 리스트로 바뀐 튜플']\n",
      "(50, '사과', 10, 'handong')\n"
     ]
    }
   ],
   "source": [
    "my_list = [5, '사과', 10, \"겨울\"] \n",
    "my_tuple = (5,'사과', 10, \"겨울\" )\n",
    "\n",
    "print(my_list)\n",
    "print(my_tuple)\n",
    "\n",
    "#리스트는 요소 값을 변경할 수 있지만 튜플은 변경할 수 없다.  -> 에러 메세지 작성 \n",
    "my_list[0] = 50 \n",
    "my_list[3] = \"한동\"\n",
    "print(my_list)\n",
    "\n",
    "#튜플을 바꾸고 싶으면 튜플을 리스트로 바꿔줘야한다. -> list()\n",
    "#리스트를 튜플로 바꾸고 싶으면 => tuple()\n",
    "to_list = list(my_tuple)\n",
    "to_list[3] = \"이건 리스트로 바뀐 튜플\"\n",
    "print(to_list)\n",
    "\n",
    "my_tuple = (50,) + my_tuple[1:3]+(\"handong\",)\n",
    "print(my_tuple)\n"
   ]
  },
  {
   "cell_type": "code",
   "execution_count": 2,
   "metadata": {},
   "outputs": [
    {
     "name": "stdout",
     "output_type": "stream",
     "text": [
      "총합계=> 600\n"
     ]
    }
   ],
   "source": [
    "my_dict = {\"옷\":100, \"컴퓨터\":200, \"모니터\":300}\n",
    "print(\"총합계=>\", sum(my_dict.values()))"
   ]
  }
 ],
 "metadata": {
  "kernelspec": {
   "display_name": "Python 3",
   "language": "python",
   "name": "python3"
  },
  "language_info": {
   "codemirror_mode": {
    "name": "ipython",
    "version": 3
   },
   "file_extension": ".py",
   "mimetype": "text/x-python",
   "name": "python",
   "nbconvert_exporter": "python",
   "pygments_lexer": "ipython3",
   "version": "3.9.19"
  }
 },
 "nbformat": 4,
 "nbformat_minor": 2
}
