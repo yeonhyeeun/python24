{
 "cells": [
  {
   "cell_type": "markdown",
   "metadata": {},
   "source": [
    "## 중간고사 오답 풀이 "
   ]
  },
  {
   "cell_type": "code",
   "execution_count": null,
   "metadata": {},
   "outputs": [],
   "source": [
    "\"\"\"\n",
    "답 4번 x가 0또는 1이 아니면 \n",
    "( if x==0 or x!=1 )\n",
    "내 답 : (if x!=0 or x!=1)\n",
    "\"\"\""
   ]
  },
  {
   "cell_type": "code",
   "execution_count": null,
   "metadata": {},
   "outputs": [],
   "source": [
    "\"\"\"\n",
    "내 답 : result = 1+3+5 (맞음)\n",
    "\n",
    "풀이 : 1+3+5 = 9 \n",
    "\"\"\""
   ]
  },
  {
   "cell_type": "code",
   "execution_count": 11,
   "metadata": {},
   "outputs": [
    {
     "name": "stdout",
     "output_type": "stream",
     "text": [
      "****4\n",
      "***3\n",
      "**2\n",
      "*1\n"
     ]
    },
    {
     "data": {
      "text/plain": [
       "'예상 출력 \\n****4\\n***3\\n**2\\n*1 \\n'"
      ]
     },
     "execution_count": 11,
     "metadata": {},
     "output_type": "execute_result"
    }
   ],
   "source": [
    "#num-i 가 정답 \n",
    "\n",
    "num = int(input(\"정수입력\"))\n",
    "\n",
    "for i in range(num):\n",
    "    for j in range(num-i):#in 뒤가 공백 문제 \n",
    "        print(\"*\", end=\"\") #끝에 줄 바꿈 하지 말라는 말 \n",
    "    print(num-i) \n",
    "\n",
    "\"\"\"예상 출력 \n",
    "****4\n",
    "***3\n",
    "**2\n",
    "*1 \n",
    "\"\"\""
   ]
  },
  {
   "cell_type": "code",
   "execution_count": 21,
   "metadata": {},
   "outputs": [
    {
     "name": "stdout",
     "output_type": "stream",
     "text": [
      "64\n"
     ]
    }
   ],
   "source": [
    "number = 1\n",
    "for i in range(1,4): #in 뒤가 공백 , while number <= 20: 인 상황일때 같은 조건으로 만들기 \n",
    "    number = number * 4\n",
    "print(number)\n",
    "\n",
    "#3번 수행하도록 \n",
    "# range 의 개념 문제 \n"
   ]
  },
  {
   "cell_type": "code",
   "execution_count": null,
   "metadata": {},
   "outputs": [],
   "source": [
    "\"\"\"\n",
    "마지막 문제 답 \n",
    "출력 합계 값 / 출력 평균 값 \n",
    "6, 2.0 \n",
    "3, 1.5\n",
    "150, 75.0 \n",
    "\n",
    "\n",
    "\"\"\""
   ]
  },
  {
   "cell_type": "code",
   "execution_count": null,
   "metadata": {},
   "outputs": [],
   "source": [
    "import turtle\n",
    "\n",
    "for i in range(4):\n",
    "    a = 100, \n",
    "    b = \n",
    "turtle.done()"
   ]
  }
 ],
 "metadata": {
  "kernelspec": {
   "display_name": "Python 3",
   "language": "python",
   "name": "python3"
  },
  "language_info": {
   "codemirror_mode": {
    "name": "ipython",
    "version": 3
   },
   "file_extension": ".py",
   "mimetype": "text/x-python",
   "name": "python",
   "nbconvert_exporter": "python",
   "pygments_lexer": "ipython3",
   "version": "3.12.0"
  }
 },
 "nbformat": 4,
 "nbformat_minor": 2
}
