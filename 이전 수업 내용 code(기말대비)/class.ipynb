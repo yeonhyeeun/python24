{
 "cells": [
  {
   "cell_type": "markdown",
   "metadata": {},
   "source": [
    "5명의 학생 이름을 입력 받은 후, 세과목(kor, eng, math) 점수 (0-100사이 랜덤 값)를 \n",
    "딕셔너리의 리스트에 저장 한 후 출력하는 프로그램을 작성해 봅시다. \n",
    "\n",
    "조건: - dictionary에서 여러 개의 값을 지정하고 활용한다.\n",
    "\n",
    "1)저장할 개수를 입력 받는다\n",
    "\n",
    "2)차례대로 이름을 입력 받는다.\n",
    "\n",
    "3)kor, eng, math 리스트에 0-100사이의 값을 차례대로 저장한다.\n",
    "\n",
    "4)각 이름과 kor, eng, math 리스트에 저장된 점수를 각각 출력"
   ]
  },
  {
   "cell_type": "code",
   "execution_count": null,
   "metadata": {},
   "outputs": [],
   "source": [
    "for i in range(:4)\n",
    "    input(\"학생이름을 입력하세요\")"
   ]
  },
  {
   "cell_type": "code",
   "execution_count": 2,
   "metadata": {},
   "outputs": [
    {
     "name": "stdout",
     "output_type": "stream",
     "text": [
      "[5, '사과', 10, '겨울']\n",
      "(5, '사과', 10, '겨울')\n"
     ]
    }
   ],
   "source": [
    "my_list = [5, '사과', 10, \"겨울\"] \n",
    "my_tuple = (5,'사과', 10, \"겨울\" )\n",
    "\n",
    "print(my_list)\n",
    "print(my_tuple)"
   ]
  },
  {
   "cell_type": "code",
   "execution_count": null,
   "metadata": {},
   "outputs": [],
   "source": []
  }
 ],
 "metadata": {
  "kernelspec": {
   "display_name": "py39",
   "language": "python",
   "name": "python3"
  },
  "language_info": {
   "codemirror_mode": {
    "name": "ipython",
    "version": 3
   },
   "file_extension": ".py",
   "mimetype": "text/x-python",
   "name": "python",
   "nbconvert_exporter": "python",
   "pygments_lexer": "ipython3",
   "version": "3.9.19"
  }
 },
 "nbformat": 4,
 "nbformat_minor": 2
}
