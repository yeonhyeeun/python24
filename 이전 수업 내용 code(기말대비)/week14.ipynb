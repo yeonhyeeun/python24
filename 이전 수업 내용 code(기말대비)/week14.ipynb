{
 "cells": [
  {
   "cell_type": "code",
   "execution_count": 1,
   "metadata": {},
   "outputs": [
    {
     "name": "stdout",
     "output_type": "stream",
     "text": [
      "Requirement already satisfied: pillow in /Users/yeon/miniconda3/envs/py39/lib/python3.9/site-packages (10.3.0)\n"
     ]
    }
   ],
   "source": [
    "!pip install pillow"
   ]
  },
  {
   "cell_type": "code",
   "execution_count": null,
   "metadata": {},
   "outputs": [
    {
     "name": "stdout",
     "output_type": "stream",
     "text": [
      "JPEG (808, 798) RGB\n",
      "None (400, 400) RGB\n"
     ]
    }
   ],
   "source": [
    "#이미지 처리 실습 \n",
    "from PIL import Image\n",
    "\n",
    "try:\n",
    "    im = Image.open(\"/Users/yeon/Library/Mobile Documents/com~apple~CloudDocs/school/24-2학기/파이썬-재이수A0/이전 수업 내용 code(기말대비)/dogdog-2.jpg\")\n",
    "\n",
    "except IOError as err:\n",
    "    print(\"image load fail!\")\n",
    "\n",
    "print(im.format, im.size, im.mode)\n",
    "\n",
    "#im.show()\n",
    "\n",
    "im.rotate(90).show()\n",
    "\n",
    "crop_img = im.crop((0,0,400,400))\n",
    "print(crop_img.format, crop_img.size, crop_img.mode)\n",
    "crop_img.show()"
   ]
  },
  {
   "cell_type": "code",
   "execution_count": 22,
   "metadata": {},
   "outputs": [],
   "source": [
    "#tkiner \n",
    "#label and btn \n",
    "\n",
    "from tkinter import *\n",
    "root = Tk()\n",
    "\n",
    "mylabel = Label(root, text=\"Hello label widget\")\n",
    "mylabel.pack()\n",
    "\n",
    "mybtn = Button(root, text=\"Press me btn!!\")\n",
    "mybtn.pack()\n",
    "\n",
    "root.mainloop()"
   ]
  },
  {
   "cell_type": "code",
   "execution_count": 21,
   "metadata": {},
   "outputs": [],
   "source": [
    "#promblem 2 \n",
    "\"\"\"조건\n",
    "\n",
    "1.Frame title: Show your name\n",
    "\n",
    "2.레이블 크기: 50x3\n",
    "\n",
    "3.레이블 색상: yellow\n",
    "\n",
    "4.레이블 내용: 본인 이름\"\"\"\n",
    "\n",
    "from tkinter import *\n",
    "root = Tk()\n",
    "root.title(\"show your name\")\n",
    "label = Label(root, text=\"hye-eun yeon\", bg=\"yellow\", width=50, height=3)\n",
    "label.pack()\n",
    "\n",
    "root.mainloop()"
   ]
  },
  {
   "cell_type": "code",
   "execution_count": 31,
   "metadata": {},
   "outputs": [
    {
     "ename": "KeyboardInterrupt",
     "evalue": "",
     "output_type": "error",
     "traceback": [
      "\u001b[0;31m---------------------------------------------------------------------------\u001b[0m",
      "\u001b[0;31mKeyboardInterrupt\u001b[0m                         Traceback (most recent call last)",
      "Cell \u001b[0;32mIn[31], line 29\u001b[0m\n\u001b[1;32m     26\u001b[0m btn \u001b[38;5;241m=\u001b[39m Button(root, text\u001b[38;5;241m=\u001b[39m\u001b[38;5;124m\"\u001b[39m\u001b[38;5;124mClick button\u001b[39m\u001b[38;5;124m\"\u001b[39m, command\u001b[38;5;241m=\u001b[39mclicked, width\u001b[38;5;241m=\u001b[39m\u001b[38;5;241m20\u001b[39m, height\u001b[38;5;241m=\u001b[39m\u001b[38;5;241m2\u001b[39m)\n\u001b[1;32m     27\u001b[0m btn\u001b[38;5;241m.\u001b[39mpack()\n\u001b[0;32m---> 29\u001b[0m \u001b[43mroot\u001b[49m\u001b[38;5;241;43m.\u001b[39;49m\u001b[43mmainloop\u001b[49m\u001b[43m(\u001b[49m\u001b[43m)\u001b[49m\n",
      "File \u001b[0;32m~/miniconda3/envs/py39/lib/python3.9/tkinter/__init__.py:1429\u001b[0m, in \u001b[0;36mMisc.mainloop\u001b[0;34m(self, n)\u001b[0m\n\u001b[1;32m   1427\u001b[0m \u001b[38;5;28;01mdef\u001b[39;00m \u001b[38;5;21mmainloop\u001b[39m(\u001b[38;5;28mself\u001b[39m, n\u001b[38;5;241m=\u001b[39m\u001b[38;5;241m0\u001b[39m):\n\u001b[1;32m   1428\u001b[0m \u001b[38;5;250m    \u001b[39m\u001b[38;5;124;03m\"\"\"Call the mainloop of Tk.\"\"\"\u001b[39;00m\n\u001b[0;32m-> 1429\u001b[0m     \u001b[38;5;28;43mself\u001b[39;49m\u001b[38;5;241;43m.\u001b[39;49m\u001b[43mtk\u001b[49m\u001b[38;5;241;43m.\u001b[39;49m\u001b[43mmainloop\u001b[49m\u001b[43m(\u001b[49m\u001b[43mn\u001b[49m\u001b[43m)\u001b[49m\n",
      "\u001b[0;31mKeyboardInterrupt\u001b[0m: "
     ]
    }
   ],
   "source": [
    "#promblem 3\n",
    "\"\"\"조건\n",
    "\n",
    "1: frame title =“Happy Day”, Frame size = 300x100\n",
    "\n",
    "2: label: “Smile”: 배경(노랑), 크기: 20x2\n",
    "\n",
    "Button: “Click Button”, 크기: 20x2\n",
    "3: Click Button을 누르면 Lable에 “I Love You” 표시하고,\n",
    "      Button에는 “Clicked Button”으로 변경\"\"\"\n",
    "\n",
    "from tkinter import *\n",
    "root = Tk()\n",
    "root.title(\"Happy Day\")\n",
    "#size \n",
    "root.geometry(\"300x100\")\n",
    "\n",
    "label = Label(root, text=\"Smile!\", bg=\"yellow\", width=20, height=2)\n",
    "label.pack()\n",
    "\n",
    "def clicked():\n",
    "      #버튼 클릭시 발생하는 이벤트 처리 \n",
    "      label.configure(text=\"i love you\", bg=\"pink\", width=20, height=2)\n",
    "      btn.configure(text=\"clicked btn\")\n",
    "      \n",
    "btn = Button(root, text=\"Click button\", command=clicked, width=20, height=2)\n",
    "btn.pack()\n",
    "\n",
    "root.mainloop()"
   ]
  },
  {
   "cell_type": "code",
   "execution_count": 33,
   "metadata": {},
   "outputs": [],
   "source": [
    "import tkinter as tk\n",
    "import random\n",
    "\n",
    "def roll_dice():\n",
    "    \"\"\"주사위를 굴려 1~6 사이의 숫자를 Label에 표시\"\"\"\n",
    "    dice_result.set(random.randint(1, 6))\n",
    "\n",
    "# 메인 윈도우 생성\n",
    "root = tk.Tk()\n",
    "root.title(\"Roll the Dice\")\n",
    "root.geometry(\"300x100\")\n",
    "\n",
    "# 숫자를 표시할 Label 생성\n",
    "dice_result = tk.StringVar()\n",
    "dice_result.set(\"Dice\") # 초기값 설정\n",
    "label = tk.Label(root, textvariable=dice_result, font=(\"Arial\", 16))\n",
    "label.pack(pady=10)\n",
    "\n",
    "# Button 생성 및 이벤트 바인딩\n",
    "button = tk.Button(root, text=\"Click the Button\", command=roll_dice)\n",
    "button.pack()\n",
    "\n",
    "# 메인 루프 실행\n",
    "root.mainloop()\n"
   ]
  }
 ],
 "metadata": {
  "kernelspec": {
   "display_name": "py39",
   "language": "python",
   "name": "python3"
  },
  "language_info": {
   "codemirror_mode": {
    "name": "ipython",
    "version": 3
   },
   "file_extension": ".py",
   "mimetype": "text/x-python",
   "name": "python",
   "nbconvert_exporter": "python",
   "pygments_lexer": "ipython3",
   "version": "3.9.19"
  }
 },
 "nbformat": 4,
 "nbformat_minor": 2
}
