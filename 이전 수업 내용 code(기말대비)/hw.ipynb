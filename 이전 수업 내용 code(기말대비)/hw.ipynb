{
 "cells": [
  {
   "cell_type": "code",
   "execution_count": 6,
   "metadata": {},
   "outputs": [
    {
     "name": "stdout",
     "output_type": "stream",
     "text": [
      "반지름 5의 길이는 31.42입니다\n"
     ]
    }
   ],
   "source": [
    "#과제 문제 1번 \n",
    "\n",
    "import math\n",
    "\n",
    "r = int(input(\"반지름을 입력=> \"))\n",
    "cir = 2 * math.pi * r \n",
    "print(\"반지름 %d의 길이는 %.2f입니다\" %(r, cir))"
   ]
  },
  {
   "cell_type": "code",
   "execution_count": null,
   "metadata": {},
   "outputs": [],
   "source": [
    "\n",
    "#과제 문제 2번 \n",
    "\n",
    "while(input != 999) {\n",
    "    input\n",
    "}\n"
   ]
  }
 ],
 "metadata": {
  "kernelspec": {
   "display_name": "py39",
   "language": "python",
   "name": "python3"
  },
  "language_info": {
   "codemirror_mode": {
    "name": "ipython",
    "version": 3
   },
   "file_extension": ".py",
   "mimetype": "text/x-python",
   "name": "python",
   "nbconvert_exporter": "python",
   "pygments_lexer": "ipython3",
   "version": "3.9.19"
  }
 },
 "nbformat": 4,
 "nbformat_minor": 2
}
