{
 "cells": [
  {
   "cell_type": "code",
   "execution_count": 6,
   "metadata": {},
   "outputs": [
    {
     "name": "stdout",
     "output_type": "stream",
     "text": [
      "반지름 5의 길이는 31.42입니다\n"
     ]
    }
   ],
   "source": [
    "#과제 문제 1번 \n",
    "\n",
    "import math\n",
    "\n",
    "r = int(input(\"반지름을 입력=> \"))\n",
    "cir = 2 * math.pi * r \n",
    "print(\"반지름 %d의 길이는 %.2f입니다\" %(r, cir))"
   ]
  },
  {
   "cell_type": "code",
   "execution_count": 30,
   "metadata": {},
   "outputs": [
    {
     "name": "stdout",
     "output_type": "stream",
     "text": [
      "입력한 숫자들을 오름차순으로 정렬한 결과:  [3, 4, 7, 43, 55, 999]\n"
     ]
    }
   ],
   "source": [
    "#과제 문제 2번 \n",
    "num_arr = []\n",
    "num = int(input(\"숫자자 입력하세요 (입력 종료는 999): \"))\n",
    "num_arr.append(num)\n",
    "while num != 999:\n",
    "    num = int(input(\"숫자자 입력하세요 (입력 종료는 999): \"))\n",
    "    num_arr.append(num)\n",
    "    num_arr.sort()  \n",
    "\n",
    "print(\"입력한 숫자들을 오름차순으로 정렬한 결과: \", num_arr)"
   ]
  },
  {
   "cell_type": "code",
   "execution_count": null,
   "metadata": {},
   "outputs": [],
   "source": []
  }
 ],
 "metadata": {
  "kernelspec": {
   "display_name": "py39",
   "language": "python",
   "name": "python3"
  },
  "language_info": {
   "codemirror_mode": {
    "name": "ipython",
    "version": 3
   },
   "file_extension": ".py",
   "mimetype": "text/x-python",
   "name": "python",
   "nbconvert_exporter": "python",
   "pygments_lexer": "ipython3",
   "version": "3.9.19"
  }
 },
 "nbformat": 4,
 "nbformat_minor": 2
}
