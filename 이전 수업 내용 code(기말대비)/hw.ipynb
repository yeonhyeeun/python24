{
 "cells": [
  {
   "cell_type": "code",
   "execution_count": 6,
   "metadata": {},
   "outputs": [
    {
     "name": "stdout",
     "output_type": "stream",
     "text": [
      "반지름 5의 길이는 31.42입니다\n"
     ]
    }
   ],
   "source": [
    "#과제 문제 1번 \n",
    "\n",
    "import math\n",
    "\n",
    "r = int(input(\"반지름을 입력=> \"))\n",
    "cir = 2 * math.pi * r \n",
    "print(\"반지름 %d의 길이는 %.2f입니다\" %(r, cir))"
   ]
  },
  {
   "cell_type": "code",
   "execution_count": 30,
   "metadata": {},
   "outputs": [
    {
     "name": "stdout",
     "output_type": "stream",
     "text": [
      "입력한 숫자들을 오름차순으로 정렬한 결과:  [3, 4, 7, 43, 55, 999]\n"
     ]
    }
   ],
   "source": [
    "#과제 문제 2번 \n",
    "num_arr = []\n",
    "num = int(input(\"숫자자 입력하세요 (입력 종료는 999): \"))\n",
    "num_arr.append(num)\n",
    "while num != 999:\n",
    "    num = int(input(\"숫자자 입력하세요 (입력 종료는 999): \"))\n",
    "    num_arr.append(num)\n",
    "    num_arr.sort()  \n",
    "\n",
    "print(\"입력한 숫자들을 오름차순으로 정렬한 결과: \", num_arr)"
   ]
  },
  {
   "cell_type": "code",
   "execution_count": null,
   "metadata": {},
   "outputs": [
    {
     "ename": "ValueError",
     "evalue": "invalid literal for int() with base 10: ''",
     "output_type": "error",
     "traceback": [
      "\u001b[0;31m---------------------------------------------------------------------------\u001b[0m",
      "\u001b[0;31mValueError\u001b[0m                                Traceback (most recent call last)",
      "Cell \u001b[0;32mIn[2], line 3\u001b[0m\n\u001b[1;32m      1\u001b[0m \u001b[38;5;66;03m#과제 문제 3번 \u001b[39;00m\n\u001b[0;32m----> 3\u001b[0m num \u001b[38;5;241m=\u001b[39m \u001b[38;5;28;43mint\u001b[39;49m\u001b[43m(\u001b[49m\u001b[38;5;28;43minput\u001b[39;49m\u001b[43m(\u001b[49m\u001b[38;5;124;43m\"\u001b[39;49m\u001b[38;5;124;43m학생 수를 입력하세요: \u001b[39;49m\u001b[38;5;124;43m\"\u001b[39;49m\u001b[43m)\u001b[49m\u001b[43m)\u001b[49m\n\u001b[1;32m      4\u001b[0m \u001b[38;5;66;03m#학생 수 -> 과목수 4개\u001b[39;00m\n\u001b[1;32m      5\u001b[0m std_arr \u001b[38;5;241m=\u001b[39m [[\u001b[38;5;241m0\u001b[39m \u001b[38;5;28;01mfor\u001b[39;00m col \u001b[38;5;129;01min\u001b[39;00m \u001b[38;5;28mrange\u001b[39m(\u001b[38;5;241m4\u001b[39m)] \u001b[38;5;28;01mfor\u001b[39;00m row \u001b[38;5;129;01min\u001b[39;00m \u001b[38;5;28mrange\u001b[39m(num)]\n",
      "\u001b[0;31mValueError\u001b[0m: invalid literal for int() with base 10: ''"
     ]
    }
   ],
   "source": [
    "#과제 문제 3번 \n",
    "\n",
    "num = int(input(\"학생 수를 입력하세요: \"))\n",
    "#학생 수 -> 과목수 4개\n",
    "std_arr = [[0 for col in range(4)] for row in range(num)]\n",
    "\n",
    "for i in range(num):\n",
    "    name = input(\"%d 번째 학생의 이름을 입력하세요: \" %(i+1))\n",
    "    #점수 입력 : 이름 + 국영수컴, 5개 \n",
    "    kor = int(input(\"%s 학생의 국어 점수를 입력하세요: \" %(name)))\n",
    "    eng = int(input(\"%s 학생의 영어 점수를 입력하세요: \" %(name)))\n",
    "    math = int(input(\"%s 학생의 수학 점수를 입력하세요: \" %(name)))\n",
    "    com = int(input(\"%s 학생의 컴퓨터 점수를 입력하세요: \" %(name)))\n",
    "    std_arr[i][0] = kor \n",
    "    std_arr[i][1] = eng\n",
    "    std_arr[i][2] = math\n",
    "    std_arr[i][3] = com\n",
    "\n",
    "    # 각 학생의 평균 점수와 평점 구하기\n",
    "    avg_scores = []\n",
    "    grades = []\n",
    "\n",
    "    for scores in std_arr:\n",
    "        avg = sum(scores) / len(scores)\n",
    "        avg_scores.append(avg)\n",
    "        if avg >= 90:\n",
    "            grades.append('A')\n",
    "        elif avg >= 80:\n",
    "            grades.append('B')\n",
    "        elif avg >= 70:\n",
    "            grades.append('C')\n",
    "        elif avg >= 60:\n",
    "            grades.append('D')\n",
    "        else:\n",
    "            grades.append('F')\n",
    "\n",
    "    # 전체 학생들의 평균 점수\n",
    "    overall_avg = sum(avg_scores) / len(avg_scores)\n",
    "\n",
    "    # 최대값과 최솟값\n",
    "    max_score = max(avg_scores)\n",
    "    min_score = min(avg_scores)\n",
    "\n",
    "    # 결과 출력\n",
    "    for i in range(num):\n",
    "        print(f\"<<각 학생의 정보>> 이름 : {name}, 평균 점수 : {avg_scores[i]:.2f}, 평점 : {grades[i]}\")\n",
    "\n",
    "    print(f\"전체 학생들의 평균 점수: {overall_avg:.2f}\")\n",
    "    print(f\"전체 학생들의 최고 평균 점수: {max_score:.2f}\")\n",
    "    print(f\"전체 학생들의 최저 평균 점수: {min_score:.2f}\")\n"
   ]
  },
  {
   "cell_type": "code",
   "execution_count": null,
   "metadata": {},
   "outputs": [
    {
     "name": "stdout",
     "output_type": "stream",
     "text": [
      "\n",
      "1번째 학생 정보 입력\n",
      "\n",
      "2번째 학생 정보 입력\n",
      "\n",
      "3번째 학생 정보 입력\n",
      "\n",
      "4번째 학생 정보 입력\n",
      "\n",
      "<<각 학생의 정보>>\n",
      "이름 : kim, 평균 점수 : 25.00, 평점 : F\n",
      "이름 : lee, 평균 점수 : 67.50, 평점 : D\n",
      "이름 : park, 평균 점수 : 47.50, 평점 : F\n",
      "이름 : hong, 평균 점수 : 35.00, 평점 : F\n",
      "\n",
      "전체 학생들의 평균 점수: 43.75\n",
      "최고 평균 점수: 67.50\n",
      "최저 평균 점수: 25.00\n"
     ]
    }
   ],
   "source": [
    "#과제 3번 \n",
    "\n",
    "def calculate_average(scores):\n",
    "    \"\"\"각 학생의 평균 점수를 계산하는 함수\"\"\"\n",
    "    return sum(scores) / len(scores)\n",
    "\n",
    "def assign_grade(average):\n",
    "    \"\"\"평균 점수에 따라 평점을 반환하는 함수\"\"\"\n",
    "    if average >= 90:\n",
    "        return 'A'\n",
    "    elif average >= 80:\n",
    "        return 'B'\n",
    "    elif average >= 70:\n",
    "        return 'C'\n",
    "    elif average >= 60:\n",
    "        return 'D'\n",
    "    else:\n",
    "        return 'F'\n",
    "\n",
    "# 학생 수 입력\n",
    "num_students = int(input(\"학생 수를 입력하세요: \"))\n",
    "students_data = []  # 2차원 리스트로 저장할 리스트\n",
    "subjects = ['국어', '영어', '수학', '컴퓨터']\n",
    "\n",
    "# 학생 정보 입력\n",
    "for i in range(num_students):\n",
    "    # print(f\"\\n{i + 1}번째 학생 정보 입력\") . #디버깅 \n",
    "    name = input(\"학생 이름을 입력하세요: \")\n",
    "    scores = []\n",
    "    for subject in subjects:\n",
    "        score = int(input(f\"{name}의 {subject} 점수를 입력하세요: \"))\n",
    "        scores.append(score)\n",
    "    students_data.append([name] + scores)  # 학생 이름과 점수를 하나의 리스트로 추가\n",
    "\n",
    "# 각 학생의 정보 출력\n",
    "print(\"\\n<<각 학생의 정보>>\")\n",
    "\n",
    "for student in students_data:\n",
    "    name = student[0]\n",
    "    scores = student[1:]\n",
    "    average = calculate_average(scores)\n",
    "    grade = assign_grade(average)\n",
    "    print(f\"이름 : {name}, 평균 점수 : {average:.1f}, 평점 : {grade}\")\n",
    "\n",
    "# 전체 평균 점수, 최대값, 최소값 계산\n",
    "all_averages = [calculate_average(student[1:]) for student in students_data]\n",
    "overall_average = calculate_average(all_averages)\n",
    "max_average = max(all_averages)\n",
    "min_average = min(all_averages)\n",
    "\n",
    "# 결과 출력\n",
    "print(f\"\\n전체 학생들의 평균 점수: {overall_average:.1f}\")\n",
    "print(f\"최고 평균 점수: {max_average:.2f}\")\n",
    "print(f\"최저 평균 점수: {min_average:.1f}\")\n"
   ]
  },
  {
   "cell_type": "code",
   "execution_count": null,
   "metadata": {},
   "outputs": [
    {
     "name": "stdout",
     "output_type": "stream",
     "text": [
      "dict_keys: 사과를 영어로, 바나나를 영어로, 복숭아를 영어로\n",
      "dict_values: apple, banana, peach\n"
     ]
    }
   ],
   "source": [
    "#과제 문제 4번 \n",
    "# 빈 딕셔너리 생성\n",
    "quiz_dict = {}\n",
    "\n",
    "# 사용자로부터 문제와 정답 입력받기\n",
    "# print(\"퀴즈를 만들기 위해 문제와 정답을 입력하세요.\")\n",
    "for i in range(1, 4):  # 3개의 문제 입력 : 1이상 4미만 : 1,2,3\n",
    "    question = input(f\"{i}번째 문제를 입력하세요: \")\n",
    "    answer = input(f\"{i}번째 정답을 입력하세요: \")\n",
    "    quiz_dict[question] = answer\n",
    "\n",
    "# 딕셔너리 출력\n",
    "# print(\"\\n<<입력된 문제와 정답>>\") #디버깅용\n",
    "# print(f\"dict_keys: {', '.join(quiz_dict.keys())}\")\n",
    "# print(f\"dict_values: {', '.join(quiz_dict.values())}\")\n",
    "print(f\"dict_keys: {', '.join(quiz_dict.values())}\") #굳이 피피티와 출력을 맞춘다면 (ppt가 잘못 됨)\n",
    "print(f\"dict_values: {', '.join(quiz_dict.keys())}\")\n"
   ]
  },
  {
   "cell_type": "code",
   "execution_count": null,
   "metadata": {},
   "outputs": [
    {
     "name": "stdout",
     "output_type": "stream",
     "text": [
      "\n",
      "1번째 문제 => 사과를 영어로\n",
      "정답!\n",
      "\n",
      "2번째 문제 => 바나나를 영어로\n",
      "오답! 정답은 'banana'입니다.\n",
      "\n",
      "3번째 문제 => 복숭아를 영어로\n",
      "정답!\n",
      "\n",
      "<<퀴즈 결과>>\n",
      "정답 개수는 2개 입니다.\n"
     ]
    }
   ],
   "source": [
    "#과제 5번 \n",
    "# 퀴즈 시작\n",
    "# print(\"\\n<<퀴즈 시작>>\") #디버깅용\n",
    "correct_count = 0  # 정답 개수를 카운트\n",
    "\n",
    "for idx, (question, answer) in enumerate(quiz_dict.items(), start=1):\n",
    "    print(f\"\\n{idx}번째 문제 => {question}\")\n",
    "    user_answer = input(f\"{idx}번째 정답 => \").strip()\n",
    "    \n",
    "    if user_answer.lower() == answer.lower():  # 대소문자 무시 비교\n",
    "        print(\"정답!\")\n",
    "        correct_count += 1\n",
    "    else:\n",
    "        print(f\"오답! 정답은 '{answer}'입니다.\")\n",
    "\n",
    "# 최종 결과 출력\n",
    "print(\"\\n<<퀴즈 결과>>\")\n",
    "print(f\"정답 개수는 {correct_count}개 입니다.\")"
   ]
  },
  {
   "cell_type": "code",
   "execution_count": null,
   "metadata": {},
   "outputs": [],
   "source": [
    "#과제 6번\n"
   ]
  }
 ],
 "metadata": {
  "kernelspec": {
   "display_name": "py39",
   "language": "python",
   "name": "python3"
  },
  "language_info": {
   "codemirror_mode": {
    "name": "ipython",
    "version": 3
   },
   "file_extension": ".py",
   "mimetype": "text/x-python",
   "name": "python",
   "nbconvert_exporter": "python",
   "pygments_lexer": "ipython3",
   "version": "3.9.19"
  }
 },
 "nbformat": 4,
 "nbformat_minor": 2
}
