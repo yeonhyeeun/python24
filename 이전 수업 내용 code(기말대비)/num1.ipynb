{
 "cells": [
  {
   "cell_type": "code",
   "execution_count": 1,
   "metadata": {},
   "outputs": [
    {
     "name": "stdout",
     "output_type": "stream",
     "text": [
      "전체 문자 7개 중 소문자는 5개\n"
     ]
    }
   ],
   "source": [
    "def count_characters(input_string):\n",
    "    total_characters = len(input_string)  # 문자열 전체 개수\n",
    "    lowercase_count = sum(1 for char in input_string if char.islower())  # 소문자 개수\n",
    "    \n",
    "    print(f\"전체 문자 {total_characters}개 중 소문자는 {lowercase_count}개\")\n",
    "\n",
    "# 사용자로부터 문자열 입력받기\n",
    "user_input = input(\"문자열을 입력하세요: \")\n",
    "count_characters(user_input)\n"
   ]
  },
  {
   "cell_type": "code",
   "execution_count": 4,
   "metadata": {},
   "outputs": [
    {
     "name": "stdout",
     "output_type": "stream",
     "text": [
      "4\n"
     ]
    }
   ],
   "source": [
    "def process_string(input_string):\n",
    "    total_characters = len(input_string)  # 문자열 전체 개수\n",
    "\n",
    "    if total_characters % 2 == 0:  # 짝수인 경우\n",
    "        print(total_characters)\n",
    "    else:  # 홀수인 경우\n",
    "        print(input_string.capitalize())  # 첫 글자만 대문자로 변경하여 출력\n",
    "\n",
    "# 사용자로부터 문자열 입력받기\n",
    "user_input = input(\"문자열 입력: \")\n",
    "process_string(user_input)\n"
   ]
  },
  {
   "cell_type": "code",
   "execution_count": 5,
   "metadata": {},
   "outputs": [
    {
     "name": "stdout",
     "output_type": "stream",
     "text": [
      "원의 둘레는 18.85입니다.\n"
     ]
    }
   ],
   "source": [
    "import math\n",
    "\n",
    "def calculate_circumference(radius):\n",
    "    \"\"\"주어진 반지름을 사용하여 원의 둘레를 계산하는 함수.\"\"\"\n",
    "    circumference = 2 * math.pi * radius\n",
    "    return circumference\n",
    "\n",
    "# 사용자로부터 반지름 입력받기\n",
    "radius = float(input(\"원의 반지름을 입력하세요: \"))\n",
    "\n",
    "# 원의 둘레 계산\n",
    "circumference = calculate_circumference(radius)\n",
    "\n",
    "# 결과 출력 (소수 이하 둘째 자리까지)\n",
    "print(f\"원의 둘레는 {circumference:.2f}입니다.\")\n"
   ]
  },
  {
   "cell_type": "code",
   "execution_count": 7,
   "metadata": {},
   "outputs": [
    {
     "name": "stdout",
     "output_type": "stream",
     "text": [
      "생성된 로또 번호: [12, 16, 21, 23, 35, 44]\n"
     ]
    }
   ],
   "source": [
    "import random\n",
    "\n",
    "def generate_lotto_numbers():\n",
    "    \"\"\"1부터 45까지의 중복 없는 로또 번호 6개를 생성하는 함수.\"\"\"\n",
    "    return random.sample(range(1, 46), 6)\n",
    "\n",
    "# 로또 번호 생성\n",
    "lotto_numbers = generate_lotto_numbers()\n",
    "\n",
    "# 생성된 로또 번호 정렬 후 출력\n",
    "lotto_numbers.sort()\n",
    "print(f\"생성된 로또 번호: {lotto_numbers}\")\n"
   ]
  },
  {
   "cell_type": "markdown",
   "metadata": {},
   "source": [
    "*여행경비 계산\n",
    "\n",
    "사용자로부터 '인원(성인), 인원(유아), 숙박일수' 를 입력 받아 여행경비를 계산하는 프로그램을 작성해 봅시다. \n",
    "\n",
    "총 여행경비= 항공권 + 관광경비 + 숙박비\n",
    "\n",
    "1. 항공권: 성인 300$,  유아 100$\n",
    "\n",
    "2. 관광경비: 성인 50$, 유아 20$\n",
    "\n",
    "3. 숙박비: 1박 당 성인 100$, 유아 무료\n",
    "\n",
    "* 항공권 비용과 숙박비 계산, 관광 비용 계산은 모두 함수로 작성"
   ]
  },
  {
   "cell_type": "code",
   "execution_count": 1,
   "metadata": {},
   "outputs": [
    {
     "name": "stdout",
     "output_type": "stream",
     "text": [
      "\n",
      "총 여행경비: $1300\n"
     ]
    }
   ],
   "source": [
    "#모듈화로 풀이 진행함 \n",
    "# 항공권 비용 계산 함수\n",
    "def calculate_airfare(adults, children):\n",
    "    adult_fare = 300\n",
    "    child_fare = 100\n",
    "    return (adults * adult_fare) + (children * child_fare)\n",
    "\n",
    "# 관광 경비 계산 함수\n",
    "def calculate_tour_cost(adults, children):\n",
    "    adult_tour_cost = 50\n",
    "    child_tour_cost = 20\n",
    "    return (adults * adult_tour_cost) + (children * child_tour_cost)\n",
    "\n",
    "# 숙박비 계산 함수\n",
    "def calculate_accommodation(adults, children, nights):\n",
    "    adult_accommodation = 100\n",
    "    # 유아는 숙박비가 무료\n",
    "    return adults * adult_accommodation * nights\n",
    "\n",
    "# 총 여행경비 계산 함수\n",
    "def calculate_total_cost(adults, children, nights):\n",
    "    airfare = calculate_airfare(adults, children)\n",
    "    tour_cost = calculate_tour_cost(adults, children)\n",
    "    accommodation = calculate_accommodation(adults, children, nights)\n",
    "    total_cost = airfare + tour_cost + accommodation\n",
    "    return total_cost\n",
    "\n",
    "# 입력받기 \n",
    "adults = int(input(\"인원(성인): \"))\n",
    "children = int(input(\"인원(유아): \"))\n",
    "nights = int(input(\"숙박 일 수: \"))\n",
    "\n",
    "\n",
    "# 총 경비 계산\n",
    "total_cost = calculate_total_cost(adults, children, nights)\n",
    "\n",
    "# 결과 출력\n",
    "print(f\"\\n총 여행경비: ${total_cost}\")\n"
   ]
  },
  {
   "cell_type": "markdown",
   "metadata": {},
   "source": [
    "사용자로부터 n개의 숫자를 입력을 받은 후(입력 종료는 999) 리스트에 저장하고, \n",
    "이 숫자들을 오름차순으로 정렬하는 함수를 작성하시오."
   ]
  },
  {
   "cell_type": "code",
   "execution_count": 19,
   "metadata": {},
   "outputs": [
    {
     "name": "stdout",
     "output_type": "stream",
     "text": [
      "중간 정렬 결과 [1, 3]\n",
      "중간 정렬 결과 [1, 3, 5]\n",
      "중간 정렬 결과 [1, 3, 5, 999]\n",
      "최종 정렬 결과 [1, 3, 5, 999]\n"
     ]
    }
   ],
   "source": [
    "num_arr = []\n",
    "num = int(input(\"숫자 입력 (종료:999)\"))\n",
    "num_arr.append(num)\n",
    "while num != 999:\n",
    "    num = int(input(\"숫자 입력 (종료:999)\"))\n",
    "    num_arr.append(num)\n",
    "    num_arr.sort()\n",
    "    print(\"중간 정렬 결과\", num_arr)\n",
    "    \n",
    "print(\"최종 정렬 결과\", num_arr)"
   ]
  },
  {
   "cell_type": "markdown",
   "metadata": {},
   "source": [
    "위 코드에서 계산 추가\n",
    "내림차순 정렬된 리스트, \n",
    "아이템 개수, 합계, 평균(소수 이하 둘째 자리 까지 출력),\n",
    "최대, 최소값 출력"
   ]
  },
  {
   "cell_type": "code",
   "execution_count": 36,
   "metadata": {},
   "outputs": [
    {
     "name": "stdout",
     "output_type": "stream",
     "text": [
      "최종 정렬 결과:  [1, 3, 5, 7]\n",
      "내림차순 정렬:  [7, 5, 3, 1]\n",
      "item 개수:  4\n",
      "합계 :  16\n",
      "평균: 4.00\n",
      "최대:  7\n",
      "최소:  1\n"
     ]
    }
   ],
   "source": [
    "#999는 리스트에 안 들어가고 종료? \n",
    "num_arr = []\n",
    "desc_arr = []\n",
    "\n",
    "while True:\n",
    "    num = int(input(\"숫자 입력 (종료:999)\"))\n",
    "    if(num == 999): break\n",
    "    num_arr.append(num)\n",
    "    num_arr.sort()\n",
    "    # print(\"중간 정렬 결과\", num_arr)\n",
    "    #내림차순 정렬  \n",
    "    desc_arr = sorted(num_arr, reverse=True)\n",
    "    \n",
    "    #아이템 개수 \n",
    "    item_num = len(num_arr) \n",
    "    #합계 \n",
    "    sum_num = sum(num_arr)\n",
    "    #내림차순 \n",
    "    #평균 \n",
    "    ex_num = sum_num / item_num\n",
    "    #최대 \n",
    "    i = item_num-1\n",
    "    #최대 \n",
    "    max_num = num_arr[i]\n",
    "    #최소 \n",
    "    min_num = num_arr[0]\n",
    "    \n",
    "    \n",
    "print(\"최종 정렬 결과: \", num_arr)  \n",
    "print(\"내림차순 정렬: \", desc_arr)       \n",
    "  \n",
    "print(\"item 개수: \", item_num)\n",
    "print(\"합계 : \", sum_num)\n",
    "print(f\"평균: {ex_num:.2f}\")\n",
    "\n",
    "print(\"최대: \", max_num) \n",
    "print(\"최소: \", min_num)\n",
    "\n",
    "    "
   ]
  },
  {
   "cell_type": "markdown",
   "metadata": {},
   "source": [
    "위 코드에서 입력 시 입력 자료 개수를 먼저 입력하고, 차례대로 입력\n",
    "(2 이상이 입력될 때까지 반복 수행)1\n",
    "## 들여쓰기 주의 아이템 개수 부터는 밖에 들여쓰기에 "
   ]
  },
  {
   "cell_type": "code",
   "execution_count": 5,
   "metadata": {},
   "outputs": [
    {
     "name": "stdout",
     "output_type": "stream",
     "text": [
      "최종 정렬 결과:  [1, 3, 9]\n",
      "내림차순 정렬:  [9, 3, 1]\n",
      "item 개수:  3\n",
      "합계 :  13\n",
      "평균: 4.33\n",
      "최대:  9\n",
      "최소:  1\n"
     ]
    }
   ],
   "source": [
    "num_arr = []\n",
    "desc_arr = []\n",
    "\n",
    "number = int(input(\"입력할 자료 개수(반복 횟수) 입력: \"))\n",
    "while True: \n",
    "    if(number < 2): \n",
    "        print(\"반복 횟수는 2번 이상부터!\")\n",
    "        break \n",
    "    else: \n",
    "        for _ in range(number): \n",
    "            num = int(input(\"숫자 입력 (종료:999)\"))\n",
    "            if(num == 999): \n",
    "                break\n",
    "            \n",
    "            num_arr.append(num)\n",
    "            num_arr.sort()\n",
    "            # print(\"중간 정렬 결과\", num_arr) #디버깅 \n",
    "            \n",
    "            #내림차순 정렬  \n",
    "            desc_arr = sorted(num_arr, reverse=True)\n",
    "            \n",
    "        #아이템 개수 \n",
    "        item_num = len(num_arr) \n",
    "        #합계 \n",
    "        sum_num = sum(num_arr)\n",
    "            \n",
    "        #평균 \n",
    "        ex_num = sum_num / item_num\n",
    "        #최대 \n",
    "        i = item_num-1\n",
    "        #최대 \n",
    "        max_num = num_arr[i]\n",
    "        #최소 \n",
    "        min_num = num_arr[0]\n",
    "    \n",
    "        print(\"최종 정렬 결과: \", num_arr)  \n",
    "        print(\"내림차순 정렬: \", desc_arr)       \n",
    "    \n",
    "        print(\"item 개수: \", item_num)\n",
    "        print(\"합계 : \", sum_num)\n",
    "        print(f\"평균: {ex_num:.2f}\")\n",
    "\n",
    "        print(\"최대: \", max_num) \n",
    "        print(\"최소: \", min_num)\n",
    "        \n",
    "        break "
   ]
  },
  {
   "cell_type": "markdown",
   "metadata": {},
   "source": [
    "위 코드를 함수로 모듈화\n",
    "\n",
    "module 1: 사용자로 부터 입력\n",
    "\n",
    "module 2: 리스트에 저장\n",
    "\n",
    "module 3: 계산, 출력"
   ]
  },
  {
   "cell_type": "code",
   "execution_count": 9,
   "metadata": {},
   "outputs": [
    {
     "ename": "KeyboardInterrupt",
     "evalue": "",
     "output_type": "error",
     "traceback": [
      "\u001b[0;31m---------------------------------------------------------------------------\u001b[0m",
      "\u001b[0;31mKeyboardInterrupt\u001b[0m                         Traceback (most recent call last)",
      "Cell \u001b[0;32mIn[9], line 48\u001b[0m\n\u001b[1;32m     44\u001b[0m     \u001b[38;5;28mprint\u001b[39m(\u001b[38;5;124m\"\u001b[39m\u001b[38;5;124m최대: \u001b[39m\u001b[38;5;124m\"\u001b[39m, max_num) \n\u001b[1;32m     45\u001b[0m     \u001b[38;5;28mprint\u001b[39m(\u001b[38;5;124m\"\u001b[39m\u001b[38;5;124m최소: \u001b[39m\u001b[38;5;124m\"\u001b[39m, min_num)\n\u001b[0;32m---> 48\u001b[0m num \u001b[38;5;241m=\u001b[39m \u001b[43minput_number\u001b[49m\u001b[43m(\u001b[49m\u001b[43m)\u001b[49m\n\u001b[1;32m     49\u001b[0m num_arr \u001b[38;5;241m=\u001b[39m []\n\u001b[1;32m     50\u001b[0m save_to_list(num,num_arr)\n",
      "Cell \u001b[0;32mIn[9], line 4\u001b[0m, in \u001b[0;36minput_number\u001b[0;34m()\u001b[0m\n\u001b[1;32m      2\u001b[0m number \u001b[38;5;241m=\u001b[39m \u001b[38;5;28mint\u001b[39m(\u001b[38;5;28minput\u001b[39m(\u001b[38;5;124m\"\u001b[39m\u001b[38;5;124m입력할 자료 개수(반복 횟수) 입력: \u001b[39m\u001b[38;5;124m\"\u001b[39m))\n\u001b[1;32m      3\u001b[0m \u001b[38;5;28;01mwhile\u001b[39;00m \u001b[38;5;28;01mTrue\u001b[39;00m: \n\u001b[0;32m----> 4\u001b[0m     \u001b[38;5;28;01mif\u001b[39;00m(\u001b[43mnumber\u001b[49m\u001b[43m \u001b[49m\u001b[38;5;241;43m<\u001b[39;49m\u001b[43m \u001b[49m\u001b[38;5;241;43m2\u001b[39;49m): \n\u001b[1;32m      5\u001b[0m         \u001b[38;5;28mprint\u001b[39m(\u001b[38;5;124m\"\u001b[39m\u001b[38;5;124m반복 횟수는 2번 이상부터!\u001b[39m\u001b[38;5;124m\"\u001b[39m)\n\u001b[1;32m      6\u001b[0m         \u001b[38;5;28;01mbreak\u001b[39;00m     \n",
      "\u001b[0;31mKeyboardInterrupt\u001b[0m: "
     ]
    }
   ],
   "source": [
    "def input_number(): \n",
    "    number = int(input(\"입력할 자료 개수(반복 횟수) 입력: \"))\n",
    "    while True: \n",
    "        if(number < 2): \n",
    "            print(\"반복 횟수는 2번 이상부터!\")\n",
    "            break     \n",
    "    return number \n",
    "\n",
    "\n",
    "def save_to_list(number, num_arr):\n",
    "    num = input_number()\n",
    "    for _ in range(num):\n",
    "        num = int(input(\"숫자 입력 (종료:999)\"))\n",
    "        if(num == 999): \n",
    "            break\n",
    "        num_arr.append(num)\n",
    "        num_arr.sort()\n",
    "        print(\"중간 정렬 결과\", num_arr) #디버깅 \n",
    "            \n",
    "\n",
    "\n",
    "def evaluate_print(num_arr):\n",
    "    #아이템 개수 \n",
    "    item_num = len(num_arr) \n",
    "        #합계 \n",
    "    sum_num = sum(num_arr)\n",
    "            \n",
    "        #평균 \n",
    "    ex_num = sum_num / item_num\n",
    "        #최대 \n",
    "    i = item_num-1\n",
    "        #최대 \n",
    "    max_num = num_arr[i]\n",
    "        #최소 \n",
    "    min_num = num_arr[0]\n",
    "    \n",
    "    print(\"최종 정렬 결과: \", num_arr)  \n",
    "    print(\"내림차순 정렬: \", desc_arr)       \n",
    "    \n",
    "    print(\"item 개수: \", item_num)\n",
    "    print(\"합계 : \", sum_num)\n",
    "    print(f\"평균: {ex_num:.2f}\")\n",
    "\n",
    "    print(\"최대: \", max_num) \n",
    "    print(\"최소: \", min_num)\n",
    "    \n",
    "\n",
    "num = input_number()\n",
    "num_arr = []\n",
    "save_to_list(num,num_arr)\n",
    "evaluate_print(num_arr)\n",
    "    \n",
    "    "
   ]
  }
 ],
 "metadata": {
  "kernelspec": {
   "display_name": "py39",
   "language": "python",
   "name": "python3"
  },
  "language_info": {
   "codemirror_mode": {
    "name": "ipython",
    "version": 3
   },
   "file_extension": ".py",
   "mimetype": "text/x-python",
   "name": "python",
   "nbconvert_exporter": "python",
   "pygments_lexer": "ipython3",
   "version": "3.9.19"
  }
 },
 "nbformat": 4,
 "nbformat_minor": 2
}
