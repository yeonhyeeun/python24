{
 "cells": [
  {
   "cell_type": "markdown",
   "metadata": {},
   "source": [
    "# 필요한 라이브러리 임포트\n",
    "필요한 라이브러리를 임포트합니다. 이 예제에서는 특별한 라이브러리가 필요하지 않습니다."
   ]
  },
  {
   "cell_type": "code",
   "execution_count": null,
   "metadata": {},
   "outputs": [],
   "source": [
    "# 필요한 라이브러리 임포트\n",
    "# 이 예제에서는 특별한 라이브러리가 필요하지 않습니다.\n",
    "# 필요한 경우, 아래와 같이 라이브러리를 임포트할 수 있습니다.\n",
    "# import numpy as np\n",
    "# import pandas as pd"
   ]
  },
  {
   "cell_type": "markdown",
   "metadata": {},
   "source": [
    "# 학생 수 입력받기\n",
    "사용자로부터 학생 수를 입력받습니다."
   ]
  },
  {
   "cell_type": "code",
   "execution_count": 1,
   "metadata": {},
   "outputs": [],
   "source": [
    "# 학생 수 입력받기\n",
    "num = int(input(\"학생 수를 입력하세요: \"))"
   ]
  },
  {
   "cell_type": "markdown",
   "metadata": {},
   "source": [
    "# 학생 정보 입력받기\n",
    "각 학생의 이름과 국어, 영어, 수학, 컴퓨터 점수를 입력받아 2차원 리스트에 저장합니다."
   ]
  },
  {
   "cell_type": "code",
   "execution_count": 5,
   "metadata": {},
   "outputs": [],
   "source": [
    "# 학생 정보 입력받기\n",
    "std_arr = [[0 for col in range(4)] for row in range(num)]\n",
    "\n",
    "for i in range(num):\n",
    "    name = input(f\"{i+1} 번째 학생의 이름을 입력하세요: \")\n",
    "    kor = int(input(f\"{name} 학생의 국어 점수를 입력하세요: \"))\n",
    "    eng = int(input(f\"{name} 학생의 영어 점수를 입력하세요: \"))\n",
    "    math = int(input(f\"{name} 학생의 수학 점수를 입력하세요: \"))\n",
    "    com = int(input(f\"{name} 학생의 컴퓨터 점수를 입력하세요: \"))\n",
    "    std_arr[i][0] = kor\n",
    "    std_arr[i][1] = eng\n",
    "    std_arr[i][2] = math\n",
    "    std_arr[i][3] = com"
   ]
  },
  {
   "cell_type": "markdown",
   "metadata": {},
   "source": [
    "# 평균 점수와 평점 계산 함수 작성\n",
    "각 학생의 평균 점수와 평점을 계산하는 함수를 작성합니다."
   ]
  },
  {
   "cell_type": "code",
   "execution_count": null,
   "metadata": {},
   "outputs": [
    {
     "name": "stdout",
     "output_type": "stream",
     "text": [
      "<<각 학생의 정보>>\n",
      " 이름 : hong, 평균 점수 : 25.00, 평점 : F\n",
      " 이름 : hong, 평균 점수 : 67.50, 평점 : D\n",
      " 이름 : hong, 평균 점수 : 47.50, 평점 : F\n",
      " 이름 : hong, 평균 점수 : 35.00, 평점 : F\n"
     ]
    }
   ],
   "source": [
    "def calculate_average(scores):\n",
    "    \"\"\"각 학생의 평균 점수를 계산하는 함수\"\"\"\n",
    "    return sum(scores) / len(scores)\n",
    "\n",
    "def calculate_grade(avg):\n",
    "    \"\"\"평균 점수를 바탕으로 평점을 계산하는 함수\"\"\"\n",
    "    if avg >= 90:\n",
    "        return 'A'\n",
    "    elif avg >= 80:\n",
    "        return 'B'\n",
    "    elif avg >= 70:\n",
    "        return 'C'\n",
    "    elif avg >= 60:\n",
    "        return 'D'\n",
    "    else:\n",
    "        return 'F'\n",
    "\n",
    "# 각 학생의 평균 점수와 평점 구하기\n",
    "avg_scores = []\n",
    "grades = []\n",
    "\n",
    "for scores in std_arr:\n",
    "    avg = calculate_average(scores)\n",
    "    avg_scores.append(avg)\n",
    "    grades.append(calculate_grade(avg))\n",
    "\n",
    "# 전체 학생들의 평균 점수\n",
    "overall_avg = calculate_average(avg_scores)\n",
    "\n",
    "# 최대값과 최솟값\n",
    "max_score = max(avg_scores)\n",
    "min_score = min(avg_scores)\n",
    "\n",
    "print(\"<<각 학생의 정보>>\")\n",
    "\n",
    "# 결과 출력\n",
    "for i in range(num):\n",
    "    print(f\" 이름 : {name}, 평균 점수 : {avg_scores[i]:.2f}, 평점 : {grades[i]}\")"
   ]
  },
  {
   "cell_type": "markdown",
   "metadata": {},
   "source": [
    "# 각 학생의 평균 점수와 평점 계산\n",
    "작성한 함수를 사용하여 각 학생의 평균 점수와 평점을 계산합니다."
   ]
  },
  {
   "cell_type": "code",
   "execution_count": null,
   "metadata": {},
   "outputs": [],
   "source": [
    "# 각 학생의 평균 점수와 평점 계산\n",
    "def calculate_average(scores):\n",
    "    \"\"\"각 학생의 평균 점수를 계산하는 함수\"\"\"\n",
    "    return sum(scores) / len(scores)\n",
    "\n",
    "def calculate_grade(avg):\n",
    "    \"\"\"평균 점수를 바탕으로 평점을 계산하는 함수\"\"\"\n",
    "    if avg >= 90:\n",
    "        return 'A'\n",
    "    elif avg >= 80:\n",
    "        return 'B'\n",
    "    elif avg >= 70:\n",
    "        return 'C'\n",
    "    elif avg >= 60:\n",
    "        return 'D'\n",
    "    else:\n",
    "        return 'F'\n",
    "\n",
    "# 각 학생의 평균 점수와 평점 구하기\n",
    "avg_scores = []\n",
    "grades = []\n",
    "\n",
    "for scores in std_arr:\n",
    "    avg = calculate_average(scores)\n",
    "    avg_scores.append(avg)\n",
    "    grades.append(calculate_grade(avg))\n",
    "\n",
    "# 전체 학생들의 평균 점수\n",
    "overall_avg = calculate_average(avg_scores)\n",
    "\n",
    "# 최대값과 최솟값\n",
    "max_score = max(avg_scores)\n",
    "min_score = min(avg_scores)\n",
    "\n",
    "# 결과 출력\n",
    "for i in range(num):\n",
    "    print(f\"<<각 학생의 정보>> 이름 : {name}, 평균 점수 : {avg_scores[i]:.2f}, 평점 : {grades[i]}\")"
   ]
  },
  {
   "cell_type": "markdown",
   "metadata": {},
   "source": [
    "# 전체 학생들의 평균 점수, 최대값, 최소값 계산\n",
    "전체 학생들의 평균 점수, 최대값, 최소값을 계산합니다."
   ]
  },
  {
   "cell_type": "code",
   "execution_count": 7,
   "metadata": {},
   "outputs": [
    {
     "name": "stdout",
     "output_type": "stream",
     "text": [
      "전체 학생들의 평균 점수: 43.75\n",
      "최고 평균 점수: 67.50\n",
      "최저 평균 점수: 25.00\n"
     ]
    }
   ],
   "source": [
    "# 전체 학생들의 평균 점수, 최대값, 최소값 계산\n",
    "\n",
    "# 전체 학생들의 평균 점수\n",
    "overall_avg = calculate_average(avg_scores)\n",
    "\n",
    "# 최대값과 최솟값\n",
    "max_score = max(avg_scores)\n",
    "min_score = min(avg_scores)\n",
    "\n",
    "# 결과 출력\n",
    "print(f\"전체 학생들의 평균 점수: {overall_avg:.2f}\")\n",
    "print(f\"최고 평균 점수: {max_score:.2f}\")\n",
    "print(f\"최저 평균 점수: {min_score:.2f}\")"
   ]
  },
  {
   "cell_type": "markdown",
   "metadata": {},
   "source": [
    "# 결과 출력\n",
    "각 학생의 이름, 평균 점수, 평점과 전체 학생들의 평균 점수, 최대값, 최소값을 출력합니다."
   ]
  },
  {
   "cell_type": "code",
   "execution_count": null,
   "metadata": {},
   "outputs": [],
   "source": [
    "# 결과 출력\n",
    "for i in range(num):\n",
    "    print(f\"<<각 학생의 정보>> 이름 : {name}, 평균 점수 : {avg_scores[i]:.2f}, 평점 : {grades[i]}\")\n",
    "\n",
    "# 전체 학생들의 평균 점수, 최대값, 최소값 출력\n",
    "print(f\"전체 학생들의 평균 점수: {overall_avg:.2f}\")\n",
    "print(f\"최고 평균 점수: {max_score:.2f}\")\n",
    "print(f\"최저 평균 점수: {min_score:.2f}\")"
   ]
  }
 ],
 "metadata": {
  "kernelspec": {
   "display_name": "py39",
   "language": "python",
   "name": "python3"
  },
  "language_info": {
   "codemirror_mode": {
    "name": "ipython",
    "version": 3
   },
   "file_extension": ".py",
   "mimetype": "text/x-python",
   "name": "python",
   "nbconvert_exporter": "python",
   "pygments_lexer": "ipython3",
   "version": "3.9.19"
  }
 },
 "nbformat": 4,
 "nbformat_minor": 2
}
